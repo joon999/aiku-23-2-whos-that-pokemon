{
  "nbformat": 4,
  "nbformat_minor": 0,
  "metadata": {
    "colab": {
      "provenance": []
    },
    "kernelspec": {
      "name": "python3",
      "display_name": "Python 3"
    },
    "language_info": {
      "name": "python"
    }
  },
  "cells": [
    {
      "cell_type": "markdown",
      "source": [
        "데이터로더 뼈대 코드"
      ],
      "metadata": {
        "id": "GneNGADVWBoC"
      }
    },
    {
      "cell_type": "code",
      "execution_count": null,
      "metadata": {
        "id": "1tiDas9oTAem"
      },
      "outputs": [],
      "source": [
        "import torch\n",
        "import os\n",
        "from torch.utils.data import Dataset, DataLoader\n",
        "from sklearn.model_selection import train_test_split\n",
        "from torchvision import transforms\n",
        "from PIL import Image\n",
        "\n",
        "class SilhouetteDataset(Dataset):\n",
        "    def __init__(self, root_dir, transform=None):\n",
        "        self.root_dir = root_dir\n",
        "        self.transform = transform\n",
        "\n",
        "        self.silhouette_dir = os.path.join(root_dir, 'pikachu_sil_128') # 데이터셋의 각 폴더명 수정해서 사용\n",
        "        self.original_dir = os.path.join(root_dir, 'pikachu_128')\n",
        "\n",
        "        self.silhouette_filenames = os.listdir(self.silhouette_dir)\n",
        "\n",
        "    def __len__(self):\n",
        "        return len(self.silhouette_filenames)\n",
        "\n",
        "    def __getitem__(self, idx):\n",
        "        silhouette_path = os.path.join(self.silhouette_dir, self.silhouette_filenames[idx])\n",
        "        original_path = os.path.join(self.original_dir, self.silhouette_filenames[idx])\n",
        "\n",
        "        silhouette_image = Image.open(silhouette_path)\n",
        "        original_image = Image.open(original_path)\n",
        "\n",
        "        if self.transform:\n",
        "            silhouette_image = self.transform(silhouette_image)\n",
        "            original_image = self.transform(original_image)\n",
        "\n",
        "        return silhouette_image, original_image\n",
        "\n",
        "# 데이터셋의 루트 디렉토리 수정해서 사용\n",
        "root_dir = '/content/drive/MyDrive/whosthatpok/pikachu_128x128png'\n",
        "\n",
        "# 전처리 및 데이터 증강을 위한 변환 정의\n",
        "transform = transforms.Compose([\n",
        "    transforms.ToTensor()\n",
        "])\n",
        "\n",
        "# 데이터셋 생성\n",
        "dataset = SilhouetteDataset(root_dir, transform=transform)\n",
        "\n",
        "train_size = 0.8\n",
        "#indices = list(range(len(dataset)))\n",
        "train_dataset, test_dataset = train_test_split(dataset, train_size=train_size, shuffle=True, random_state=42)\n",
        "\n",
        "# 데이터로더 생성\n",
        "train_dataloader = DataLoader(train_dataset, batch_size=16, shuffle=True, num_workers=2)\n",
        "test_dataloader = DataLoader(test_dataset, batch_size=16, shuffle=False, num_workers=2)"
      ]
    },
    {
      "cell_type": "markdown",
      "source": [
        "테스트 코드"
      ],
      "metadata": {
        "id": "rucD4JOpV_9E"
      }
    },
    {
      "cell_type": "code",
      "source": [
        "import matplotlib.pyplot as plt\n",
        "import torchvision.utils as vutils\n",
        "\n",
        "# 데이터셋 생성\n",
        "dataset = SilhouetteDataset(root_dir, transform=transform)\n",
        "\n",
        "# 몇 개의 샘플을 시각화\n",
        "num_samples_to_show = 4\n",
        "fig, axes = plt.subplots(2, num_samples_to_show, figsize=(10, 4))\n",
        "\n",
        "for i in range(num_samples_to_show):\n",
        "    silhouette_image, original_image = dataset[i]\n",
        "\n",
        "    # 시각화를 위해 텐서를 이미지로 변환\n",
        "    silhouette_image = vutils.make_grid(silhouette_image, normalize=True).numpy().transpose(1, 2, 0)\n",
        "    original_image = vutils.make_grid(original_image, normalize=True).numpy().transpose(1, 2, 0)\n",
        "\n",
        "    axes[0, i].imshow(silhouette_image, cmap='gray')\n",
        "    axes[0, i].axis('off')\n",
        "    axes[0, i].set_title('Silhouette')\n",
        "\n",
        "    axes[1, i].imshow(original_image)\n",
        "    axes[1, i].axis('off')\n",
        "    axes[1, i].set_title('Original')\n",
        "\n",
        "plt.show()"
      ],
      "metadata": {
        "id": "BavXTjiEV--a"
      },
      "execution_count": null,
      "outputs": []
    }
  ]
}